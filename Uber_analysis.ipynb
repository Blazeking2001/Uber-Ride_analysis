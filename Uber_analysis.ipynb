{
 "cells": [
  {
   "cell_type": "code",
   "execution_count": 1,
   "id": "40d035e6-bc51-4b9e-b1fa-4e882d9f6a7a",
   "metadata": {
    "tags": []
   },
   "outputs": [],
   "source": [
    "import numpy as np\n",
    "import pandas as pd\n",
    "import matplotlib.pyplot as plt\n",
    "import seaborn as sns"
   ]
  },
  {
   "cell_type": "code",
   "execution_count": 2,
   "id": "4fbdb466-fb24-4c52-9927-51a97d3b93c3",
   "metadata": {
    "tags": []
   },
   "outputs": [
    {
     "data": {
      "text/html": [
       "<div>\n",
       "<style scoped>\n",
       "    .dataframe tbody tr th:only-of-type {\n",
       "        vertical-align: middle;\n",
       "    }\n",
       "\n",
       "    .dataframe tbody tr th {\n",
       "        vertical-align: top;\n",
       "    }\n",
       "\n",
       "    .dataframe thead th {\n",
       "        text-align: right;\n",
       "    }\n",
       "</style>\n",
       "<table border=\"1\" class=\"dataframe\">\n",
       "  <thead>\n",
       "    <tr style=\"text-align: right;\">\n",
       "      <th></th>\n",
       "      <th>START_DATE*</th>\n",
       "      <th>END_DATE*</th>\n",
       "      <th>CATEGORY*</th>\n",
       "      <th>START*</th>\n",
       "      <th>STOP*</th>\n",
       "      <th>MILES*</th>\n",
       "      <th>PURPOSE*</th>\n",
       "    </tr>\n",
       "  </thead>\n",
       "  <tbody>\n",
       "    <tr>\n",
       "      <th>0</th>\n",
       "      <td>1/1/2016 21:11</td>\n",
       "      <td>1/1/2016 21:17</td>\n",
       "      <td>Business</td>\n",
       "      <td>Fort Pierce</td>\n",
       "      <td>Fort Pierce</td>\n",
       "      <td>5.1</td>\n",
       "      <td>Meal/Entertain</td>\n",
       "    </tr>\n",
       "    <tr>\n",
       "      <th>1</th>\n",
       "      <td>1/2/2016 1:25</td>\n",
       "      <td>1/2/2016 1:37</td>\n",
       "      <td>Business</td>\n",
       "      <td>Fort Pierce</td>\n",
       "      <td>Fort Pierce</td>\n",
       "      <td>5.0</td>\n",
       "      <td>NaN</td>\n",
       "    </tr>\n",
       "    <tr>\n",
       "      <th>2</th>\n",
       "      <td>1/2/2016 20:25</td>\n",
       "      <td>1/2/2016 20:38</td>\n",
       "      <td>Business</td>\n",
       "      <td>Fort Pierce</td>\n",
       "      <td>Fort Pierce</td>\n",
       "      <td>4.8</td>\n",
       "      <td>Errand/Supplies</td>\n",
       "    </tr>\n",
       "    <tr>\n",
       "      <th>3</th>\n",
       "      <td>1/5/2016 17:31</td>\n",
       "      <td>1/5/2016 17:45</td>\n",
       "      <td>Business</td>\n",
       "      <td>Fort Pierce</td>\n",
       "      <td>Fort Pierce</td>\n",
       "      <td>4.7</td>\n",
       "      <td>Meeting</td>\n",
       "    </tr>\n",
       "    <tr>\n",
       "      <th>4</th>\n",
       "      <td>1/6/2016 14:42</td>\n",
       "      <td>1/6/2016 15:49</td>\n",
       "      <td>Business</td>\n",
       "      <td>Fort Pierce</td>\n",
       "      <td>West Palm Beach</td>\n",
       "      <td>63.7</td>\n",
       "      <td>Customer Visit</td>\n",
       "    </tr>\n",
       "  </tbody>\n",
       "</table>\n",
       "</div>"
      ],
      "text/plain": [
       "      START_DATE*       END_DATE* CATEGORY*       START*            STOP*  \\\n",
       "0  1/1/2016 21:11  1/1/2016 21:17  Business  Fort Pierce      Fort Pierce   \n",
       "1   1/2/2016 1:25   1/2/2016 1:37  Business  Fort Pierce      Fort Pierce   \n",
       "2  1/2/2016 20:25  1/2/2016 20:38  Business  Fort Pierce      Fort Pierce   \n",
       "3  1/5/2016 17:31  1/5/2016 17:45  Business  Fort Pierce      Fort Pierce   \n",
       "4  1/6/2016 14:42  1/6/2016 15:49  Business  Fort Pierce  West Palm Beach   \n",
       "\n",
       "   MILES*         PURPOSE*  \n",
       "0     5.1   Meal/Entertain  \n",
       "1     5.0              NaN  \n",
       "2     4.8  Errand/Supplies  \n",
       "3     4.7          Meeting  \n",
       "4    63.7   Customer Visit  "
      ]
     },
     "execution_count": 2,
     "metadata": {},
     "output_type": "execute_result"
    }
   ],
   "source": [
    "data = pd.read_csv(\"My Uber Drives - 2016.csv\")\n",
    "data.head()"
   ]
  },
  {
   "cell_type": "code",
   "execution_count": 3,
   "id": "00b505ce-963c-4832-9ede-fa700c04f7d5",
   "metadata": {
    "tags": []
   },
   "outputs": [
    {
     "data": {
      "text/plain": [
       "(1156, 7)"
      ]
     },
     "execution_count": 3,
     "metadata": {},
     "output_type": "execute_result"
    }
   ],
   "source": [
    "data.shape"
   ]
  },
  {
   "cell_type": "code",
   "execution_count": 4,
   "id": "7e2e75cd-7c27-4426-bd8d-03484666eda0",
   "metadata": {
    "tags": []
   },
   "outputs": [
    {
     "data": {
      "text/html": [
       "<div>\n",
       "<style scoped>\n",
       "    .dataframe tbody tr th:only-of-type {\n",
       "        vertical-align: middle;\n",
       "    }\n",
       "\n",
       "    .dataframe tbody tr th {\n",
       "        vertical-align: top;\n",
       "    }\n",
       "\n",
       "    .dataframe thead th {\n",
       "        text-align: right;\n",
       "    }\n",
       "</style>\n",
       "<table border=\"1\" class=\"dataframe\">\n",
       "  <thead>\n",
       "    <tr style=\"text-align: right;\">\n",
       "      <th></th>\n",
       "      <th>MILES*</th>\n",
       "    </tr>\n",
       "  </thead>\n",
       "  <tbody>\n",
       "    <tr>\n",
       "      <th>count</th>\n",
       "      <td>1156.000000</td>\n",
       "    </tr>\n",
       "    <tr>\n",
       "      <th>mean</th>\n",
       "      <td>21.115398</td>\n",
       "    </tr>\n",
       "    <tr>\n",
       "      <th>std</th>\n",
       "      <td>359.299007</td>\n",
       "    </tr>\n",
       "    <tr>\n",
       "      <th>min</th>\n",
       "      <td>0.500000</td>\n",
       "    </tr>\n",
       "    <tr>\n",
       "      <th>25%</th>\n",
       "      <td>2.900000</td>\n",
       "    </tr>\n",
       "    <tr>\n",
       "      <th>50%</th>\n",
       "      <td>6.000000</td>\n",
       "    </tr>\n",
       "    <tr>\n",
       "      <th>75%</th>\n",
       "      <td>10.400000</td>\n",
       "    </tr>\n",
       "    <tr>\n",
       "      <th>max</th>\n",
       "      <td>12204.700000</td>\n",
       "    </tr>\n",
       "  </tbody>\n",
       "</table>\n",
       "</div>"
      ],
      "text/plain": [
       "             MILES*\n",
       "count   1156.000000\n",
       "mean      21.115398\n",
       "std      359.299007\n",
       "min        0.500000\n",
       "25%        2.900000\n",
       "50%        6.000000\n",
       "75%       10.400000\n",
       "max    12204.700000"
      ]
     },
     "execution_count": 4,
     "metadata": {},
     "output_type": "execute_result"
    }
   ],
   "source": [
    "data.describe()"
   ]
  },
  {
   "cell_type": "code",
   "execution_count": 5,
   "id": "2c78d171-0424-4f4f-8456-71b642415f47",
   "metadata": {
    "tags": []
   },
   "outputs": [
    {
     "name": "stdout",
     "output_type": "stream",
     "text": [
      "<class 'pandas.core.frame.DataFrame'>\n",
      "RangeIndex: 1156 entries, 0 to 1155\n",
      "Data columns (total 7 columns):\n",
      " #   Column       Non-Null Count  Dtype  \n",
      "---  ------       --------------  -----  \n",
      " 0   START_DATE*  1156 non-null   object \n",
      " 1   END_DATE*    1155 non-null   object \n",
      " 2   CATEGORY*    1155 non-null   object \n",
      " 3   START*       1155 non-null   object \n",
      " 4   STOP*        1155 non-null   object \n",
      " 5   MILES*       1156 non-null   float64\n",
      " 6   PURPOSE*     653 non-null    object \n",
      "dtypes: float64(1), object(6)\n",
      "memory usage: 63.3+ KB\n"
     ]
    }
   ],
   "source": [
    "data.info()"
   ]
  },
  {
   "cell_type": "code",
   "execution_count": 6,
   "id": "06e50afb-5ad0-416f-811a-103587e42501",
   "metadata": {
    "tags": []
   },
   "outputs": [
    {
     "data": {
      "text/plain": [
       "START_DATE*      0\n",
       "END_DATE*        1\n",
       "CATEGORY*        1\n",
       "START*           1\n",
       "STOP*            1\n",
       "MILES*           0\n",
       "PURPOSE*       503\n",
       "dtype: int64"
      ]
     },
     "execution_count": 6,
     "metadata": {},
     "output_type": "execute_result"
    }
   ],
   "source": [
    "data.isnull().sum()"
   ]
  },
  {
   "cell_type": "code",
   "execution_count": 7,
   "id": "a92c235d-f921-4742-8650-51643b83367c",
   "metadata": {
    "tags": []
   },
   "outputs": [
    {
     "data": {
      "text/html": [
       "<div>\n",
       "<style scoped>\n",
       "    .dataframe tbody tr th:only-of-type {\n",
       "        vertical-align: middle;\n",
       "    }\n",
       "\n",
       "    .dataframe tbody tr th {\n",
       "        vertical-align: top;\n",
       "    }\n",
       "\n",
       "    .dataframe thead th {\n",
       "        text-align: right;\n",
       "    }\n",
       "</style>\n",
       "<table border=\"1\" class=\"dataframe\">\n",
       "  <thead>\n",
       "    <tr style=\"text-align: right;\">\n",
       "      <th></th>\n",
       "      <th>START_DATE*</th>\n",
       "      <th>END_DATE*</th>\n",
       "      <th>CATEGORY*</th>\n",
       "      <th>START*</th>\n",
       "      <th>STOP*</th>\n",
       "      <th>MILES*</th>\n",
       "      <th>PURPOSE*</th>\n",
       "    </tr>\n",
       "  </thead>\n",
       "  <tbody>\n",
       "    <tr>\n",
       "      <th>1155</th>\n",
       "      <td>Totals</td>\n",
       "      <td>NaN</td>\n",
       "      <td>NaN</td>\n",
       "      <td>NaN</td>\n",
       "      <td>NaN</td>\n",
       "      <td>12204.7</td>\n",
       "      <td>NaN</td>\n",
       "    </tr>\n",
       "  </tbody>\n",
       "</table>\n",
       "</div>"
      ],
      "text/plain": [
       "     START_DATE* END_DATE* CATEGORY* START* STOP*   MILES* PURPOSE*\n",
       "1155      Totals       NaN       NaN    NaN   NaN  12204.7      NaN"
      ]
     },
     "execution_count": 7,
     "metadata": {},
     "output_type": "execute_result"
    }
   ],
   "source": [
    "data[data['END_DATE*'].isnull()]"
   ]
  },
  {
   "cell_type": "code",
   "execution_count": 8,
   "id": "853ba2fa-3034-4339-9571-4f83153bac7d",
   "metadata": {
    "tags": []
   },
   "outputs": [],
   "source": [
    "data.drop(data.index[1155], inplace=True)"
   ]
  },
  {
   "cell_type": "code",
   "execution_count": 9,
   "id": "366e870e-d4d4-46ae-9060-11cad99d7217",
   "metadata": {
    "tags": []
   },
   "outputs": [
    {
     "data": {
      "text/html": [
       "<div>\n",
       "<style scoped>\n",
       "    .dataframe tbody tr th:only-of-type {\n",
       "        vertical-align: middle;\n",
       "    }\n",
       "\n",
       "    .dataframe tbody tr th {\n",
       "        vertical-align: top;\n",
       "    }\n",
       "\n",
       "    .dataframe thead th {\n",
       "        text-align: right;\n",
       "    }\n",
       "</style>\n",
       "<table border=\"1\" class=\"dataframe\">\n",
       "  <thead>\n",
       "    <tr style=\"text-align: right;\">\n",
       "      <th></th>\n",
       "      <th>START_DATE*</th>\n",
       "      <th>END_DATE*</th>\n",
       "      <th>CATEGORY*</th>\n",
       "      <th>START*</th>\n",
       "      <th>STOP*</th>\n",
       "      <th>MILES*</th>\n",
       "      <th>PURPOSE*</th>\n",
       "    </tr>\n",
       "  </thead>\n",
       "  <tbody>\n",
       "    <tr>\n",
       "      <th>492</th>\n",
       "      <td>6/28/2016 23:34</td>\n",
       "      <td>6/28/2016 23:59</td>\n",
       "      <td>Business</td>\n",
       "      <td>Durham</td>\n",
       "      <td>Cary</td>\n",
       "      <td>9.9</td>\n",
       "      <td>Meeting</td>\n",
       "    </tr>\n",
       "  </tbody>\n",
       "</table>\n",
       "</div>"
      ],
      "text/plain": [
       "         START_DATE*        END_DATE* CATEGORY*  START* STOP*  MILES* PURPOSE*\n",
       "492  6/28/2016 23:34  6/28/2016 23:59  Business  Durham  Cary     9.9  Meeting"
      ]
     },
     "execution_count": 9,
     "metadata": {},
     "output_type": "execute_result"
    }
   ],
   "source": [
    "data[data.duplicated()]"
   ]
  },
  {
   "cell_type": "code",
   "execution_count": 10,
   "id": "0b75bb73-00e4-471b-be8d-4a8afa09e8ca",
   "metadata": {
    "tags": []
   },
   "outputs": [],
   "source": [
    "data.drop_duplicates(inplace=True)"
   ]
  },
  {
   "cell_type": "code",
   "execution_count": 11,
   "id": "e625f5d4-5021-4926-8bed-a68d2eac2d8b",
   "metadata": {
    "tags": []
   },
   "outputs": [
    {
     "data": {
      "text/plain": [
       "START_DATE*      0\n",
       "END_DATE*        0\n",
       "CATEGORY*        0\n",
       "START*           0\n",
       "STOP*            0\n",
       "MILES*           0\n",
       "PURPOSE*       502\n",
       "dtype: int64"
      ]
     },
     "execution_count": 11,
     "metadata": {},
     "output_type": "execute_result"
    }
   ],
   "source": [
    "data.isna().sum()"
   ]
  },
  {
   "cell_type": "code",
   "execution_count": 12,
   "id": "49bd85a1-9be3-4e35-9877-bb579bdffd38",
   "metadata": {
    "tags": []
   },
   "outputs": [],
   "source": [
    "data = data.dropna()"
   ]
  },
  {
   "cell_type": "code",
   "execution_count": 13,
   "id": "64bc3e05-e2fd-4854-a7a7-ab752cf21c58",
   "metadata": {
    "tags": []
   },
   "outputs": [
    {
     "data": {
      "text/plain": [
       "(652, 7)"
      ]
     },
     "execution_count": 13,
     "metadata": {},
     "output_type": "execute_result"
    }
   ],
   "source": [
    "data.shape"
   ]
  },
  {
   "cell_type": "code",
   "execution_count": 14,
   "id": "5ef76449-d21a-41bb-9593-279b763f1c85",
   "metadata": {
    "tags": []
   },
   "outputs": [
    {
     "data": {
      "text/html": [
       "<div>\n",
       "<style scoped>\n",
       "    .dataframe tbody tr th:only-of-type {\n",
       "        vertical-align: middle;\n",
       "    }\n",
       "\n",
       "    .dataframe tbody tr th {\n",
       "        vertical-align: top;\n",
       "    }\n",
       "\n",
       "    .dataframe thead th {\n",
       "        text-align: right;\n",
       "    }\n",
       "</style>\n",
       "<table border=\"1\" class=\"dataframe\">\n",
       "  <thead>\n",
       "    <tr style=\"text-align: right;\">\n",
       "      <th></th>\n",
       "      <th>MILES*</th>\n",
       "    </tr>\n",
       "  </thead>\n",
       "  <tbody>\n",
       "    <tr>\n",
       "      <th>count</th>\n",
       "      <td>652.000000</td>\n",
       "    </tr>\n",
       "    <tr>\n",
       "      <th>mean</th>\n",
       "      <td>11.198313</td>\n",
       "    </tr>\n",
       "    <tr>\n",
       "      <th>std</th>\n",
       "      <td>23.004020</td>\n",
       "    </tr>\n",
       "    <tr>\n",
       "      <th>min</th>\n",
       "      <td>0.500000</td>\n",
       "    </tr>\n",
       "    <tr>\n",
       "      <th>25%</th>\n",
       "      <td>3.200000</td>\n",
       "    </tr>\n",
       "    <tr>\n",
       "      <th>50%</th>\n",
       "      <td>6.400000</td>\n",
       "    </tr>\n",
       "    <tr>\n",
       "      <th>75%</th>\n",
       "      <td>10.400000</td>\n",
       "    </tr>\n",
       "    <tr>\n",
       "      <th>max</th>\n",
       "      <td>310.300000</td>\n",
       "    </tr>\n",
       "  </tbody>\n",
       "</table>\n",
       "</div>"
      ],
      "text/plain": [
       "           MILES*\n",
       "count  652.000000\n",
       "mean    11.198313\n",
       "std     23.004020\n",
       "min      0.500000\n",
       "25%      3.200000\n",
       "50%      6.400000\n",
       "75%     10.400000\n",
       "max    310.300000"
      ]
     },
     "execution_count": 14,
     "metadata": {},
     "output_type": "execute_result"
    }
   ],
   "source": [
    "data.describe()"
   ]
  },
  {
   "cell_type": "code",
   "execution_count": 15,
   "id": "76337232-53b6-4ade-a0e7-69ac37aaf1ac",
   "metadata": {
    "tags": []
   },
   "outputs": [
    {
     "data": {
      "text/plain": [
       "<AxesSubplot: xlabel='MILES*', ylabel='Count'>"
      ]
     },
     "execution_count": 15,
     "metadata": {},
     "output_type": "execute_result"
    },
    {
     "data": {
      "image/png": "[encoded data removed]",
      "text/plain": [
       "<Figure size 1000x800 with 1 Axes>"
      ]
     },
     "metadata": {},
     "output_type": "display_data"
    }
   ],
   "source": [
    "plt.figure(figsize=(10,8))\n",
    "sns.histplot(data['MILES*'], kde=True)"
   ]
  },
  {
   "cell_type": "code",
   "execution_count": 16,
   "id": "95e453f9-f64d-4737-9355-7468bb4aced9",
   "metadata": {
    "tags": []
   },
   "outputs": [
    {
     "name": "stdout",
     "output_type": "stream",
     "text": [
      "['Fort Pierce' 'West Palm Beach' 'Cary' 'Jamaica' 'New York' 'Elmhurst'\n",
      " 'Midtown' 'East Harlem' 'Flatiron District' 'Midtown East'\n",
      " 'Hudson Square' 'Lower Manhattan' \"Hell's Kitchen\" 'Downtown' 'Gulfton'\n",
      " 'Houston' 'Eagan Park' 'Morrisville' 'Durham' 'Farmington Woods'\n",
      " 'Lake Wellingborough' 'Fayetteville Street' 'Raleigh' 'Whitebridge'\n",
      " 'Hazelwood' 'Fairmont' 'Meredith Townes' 'Apex' 'Chapel Hill'\n",
      " 'Northwoods' 'Edgehill Farms' 'Eastgate' 'East Elmhurst'\n",
      " 'Long Island City' 'Katunayaka' 'Colombo' 'Nugegoda' 'Unknown Location'\n",
      " 'Islamabad' 'R?walpindi' 'Noorpur Shahan' 'Preston' 'Heritage Pines'\n",
      " 'Tanglewood' 'Waverly Place' 'Wayne Ridge' 'Westpark Place' 'East Austin'\n",
      " 'The Drag' 'South Congress' 'Georgian Acres' 'North Austin'\n",
      " 'West University' 'Austin' 'Katy' 'Sharpstown' 'Sugar Land' 'Galveston'\n",
      " 'Port Bolivar' 'Washington Avenue' 'Briar Meadow' 'Latta' 'Jacksonville'\n",
      " 'Lake Reams' 'Orlando' 'Kissimmee' 'Daytona Beach' 'Ridgeland' 'Florence'\n",
      " 'Meredith' 'Holly Springs' 'Chessington' 'Burtrose' 'Parkway' 'Mcvan'\n",
      " 'Capitol One' 'University District' 'Seattle' 'Redmond' 'Bellevue'\n",
      " 'San Francisco' 'Palo Alto' 'Sunnyvale' 'Newark' 'Menlo Park' 'Old City'\n",
      " 'Savon Height' 'Kilarney Woods' 'Townes at Everett Crossing'\n",
      " 'Huntington Woods' 'Weston' 'Seaport' 'Medical Centre' 'Rose Hill' 'Soho'\n",
      " 'Tribeca' 'Financial District' 'Oakland' 'Emeryville' 'Berkeley' 'Kenner'\n",
      " 'CBD' 'Lower Garden District' 'Storyville' 'New Orleans' 'Chalmette'\n",
      " 'Arabi' 'Pontchartrain Shores' 'Metairie' 'Summerwinds' 'Parkwood'\n",
      " 'Banner Elk' 'Boone' 'Stonewater' 'Lexington Park at Amberly'\n",
      " 'Winston Salem' 'Asheville' 'Topton' 'Renaissance' 'Santa Clara'\n",
      " 'Ingleside' 'West Berkeley' 'Mountain View' 'El Cerrito' 'Krendle Woods'\n",
      " 'Fuquay-Varina' 'Rawalpindi' 'Lahore' 'Kar?chi' 'Katunayake' 'Gampaha']\n",
      "131\n"
     ]
    }
   ],
   "source": [
    "print(data['START*'].unique())\n",
    "print(len(data['START*'].unique()))"
   ]
  },
  {
   "cell_type": "code",
   "execution_count": 17,
   "id": "9c4f3730-7eec-45ac-8d3f-adac315e48f7",
   "metadata": {
    "tags": []
   },
   "outputs": [
    {
     "name": "stdout",
     "output_type": "stream",
     "text": [
      "['Fort Pierce' 'West Palm Beach' 'Palm Beach' 'Cary' 'Morrisville'\n",
      " 'New York' 'Queens' 'East Harlem' 'NoMad' 'Midtown' 'Midtown East'\n",
      " 'Hudson Square' 'Lower Manhattan' \"Hell's Kitchen\" 'Queens County'\n",
      " 'Gulfton' 'Downtown' 'Houston' 'Jamestown Court' 'Durham' 'Whitebridge'\n",
      " 'Raleigh' 'Umstead' 'Hazelwood' 'Westpark Place' 'Meredith Townes'\n",
      " 'Leesville Hollow' 'Apex' 'Chapel Hill' 'Williamsburg Manor'\n",
      " 'Macgregor Downs' 'Edgehill Farms' 'Walnut Terrace' 'Midtown West'\n",
      " 'Long Island City' 'Jamaica' 'Unknown Location' 'Colombo' 'Nugegoda'\n",
      " 'Katunayaka' 'Islamabad' 'R?walpindi' 'Noorpur Shahan' 'Heritage Pines'\n",
      " 'Tanglewood' 'Waverly Place' 'Wayne Ridge' 'Northwoods'\n",
      " 'Depot Historic District' 'West University' 'Congress Ave District'\n",
      " 'Convention Center District' 'North Austin' 'The Drag' 'Coxville'\n",
      " 'South Congress' 'Katy' 'Alief' 'Sharpstown' 'Sugar Land' 'Galveston'\n",
      " 'Port Bolivar' 'Washington Avenue' 'Greater Greenspoint' 'Latta'\n",
      " 'Jacksonville' 'Kissimmee' 'Lake Reams' 'Orlando' 'Daytona Beach'\n",
      " 'Ridgeland' 'Florence' 'Cedar Hill' 'Holly Springs' 'Harden Place'\n",
      " 'Chessington' 'Burtrose' 'Parkway' 'Capitol One' 'University District'\n",
      " 'Redmond' 'Bellevue' 'Seattle' 'Mcvan' 'Palo Alto' 'Sunnyvale' 'Newark'\n",
      " 'Menlo Park' 'San Francisco' 'Preston' 'Parkway Museums' 'Hog Island'\n",
      " 'Savon Height' 'Kildaire Farms' 'Weston' 'Gramercy-Flatiron' 'Tudor City'\n",
      " 'Soho' 'Tribeca' 'Financial District' 'Kips Bay' 'Emeryville' 'Berkeley'\n",
      " 'Oakland' 'Bay Farm Island' 'New Orleans' 'Lower Garden District'\n",
      " 'Lakeview' 'Faubourg Marigny' 'Chalmette' 'Arabi' 'Metairie'\n",
      " 'Pontchartrain Shores' 'Kenner' 'Summerwinds' 'Parkwood' 'Banner Elk'\n",
      " 'Boone' 'Stonewater' 'Lexington Park at Amberly' 'Winston Salem'\n",
      " 'Asheville' 'Topton' 'Hayesville' 'Agnew' 'Potrero Flats' 'South'\n",
      " 'Southside' 'Mountain View' 'El Cerrito' 'Wake Co.' 'Fuquay-Varina'\n",
      " 'Rawalpindi' 'Lahore' 'Kar?chi' 'Gampaha' 'Ilukwatta']\n",
      "137\n"
     ]
    }
   ],
   "source": [
    "print(data['STOP*'].unique())\n",
    "print(len(data['STOP*'].unique()))"
   ]
  },
  {
   "cell_type": "code",
   "execution_count": 18,
   "id": "29927cdf-5430-4f87-8ba8-be3b5a1a37c3",
   "metadata": {
    "tags": []
   },
   "outputs": [
    {
     "data": {
      "text/plain": [
       "Cary                161\n",
       "Unknown Location     55\n",
       "Morrisville          54\n",
       "Whitebridge          36\n",
       "Durham               29\n",
       "Kar?chi              26\n",
       "Raleigh              21\n",
       "Lahore               19\n",
       "Islamabad            15\n",
       "Apex                 11\n",
       "Name: START*, dtype: int64"
      ]
     },
     "execution_count": 18,
     "metadata": {},
     "output_type": "execute_result"
    }
   ],
   "source": [
    "top_10_start = data['START*'].value_counts().head(10)\n",
    "top_10_start"
   ]
  },
  {
   "cell_type": "code",
   "execution_count": 19,
   "id": "92cb32de-27f0-496f-ae47-e56ae7840094",
   "metadata": {
    "tags": []
   },
   "outputs": [
    {
     "data": {
      "text/plain": [
       "<AxesSubplot: xlabel='START*'>"
      ]
     },
     "execution_count": 19,
     "metadata": {},
     "output_type": "execute_result"
    },
    {
     "data": {
      "image/png": "[encoded data removed]",
      "text/plain": [
       "<Figure size 1000x800 with 1 Axes>"
      ]
     },
     "metadata": {},
     "output_type": "display_data"
    }
   ],
   "source": [
    "plt.figure(figsize=(10,8))\n",
    "sns.barplot(data = data, x = top_10_start, y = top_10_start.index)"
   ]
  },
  {
   "cell_type": "code",
   "execution_count": 20,
   "id": "0298453b-2481-4719-9572-b6627c7c16bd",
   "metadata": {
    "tags": []
   },
   "outputs": [],
   "source": [
    "top_10_stop = data['STOP*'].value_counts().head(10)"
   ]
  },
  {
   "cell_type": "code",
   "execution_count": 21,
   "id": "a0b765de-4502-447f-8596-9eb3b0bd561c",
   "metadata": {
    "tags": []
   },
   "outputs": [
    {
     "data": {
      "text/plain": [
       "<AxesSubplot: xlabel='STOP*'>"
      ]
     },
     "execution_count": 21,
     "metadata": {},
     "output_type": "execute_result"
    },
    {
     "data": {
      "image/png": "[encoded data removed]",
      "text/plain": [
       "<Figure size 1000x800 with 1 Axes>"
      ]
     },
     "metadata": {},
     "output_type": "display_data"
    }
   ],
   "source": [
    "plt.figure(figsize=(10,8))\n",
    "sns.barplot(data = data, x = top_10_stop, y = top_10_stop.index)"
   ]
  },
  {
   "cell_type": "code",
   "execution_count": 22,
   "id": "f5220edb-9f3b-4f94-bcb8-826d3f803975",
   "metadata": {
    "tags": []
   },
   "outputs": [],
   "source": [
    "data2 = data[data['STOP*'] != 'Unknown Location']\n",
    "data2 = data[data['START*'] != 'Unknown Location']"
   ]
  },
  {
   "cell_type": "code",
   "execution_count": 23,
   "id": "dd128852-ff1c-4c91-acdc-1f0f1123c2dc",
   "metadata": {
    "tags": []
   },
   "outputs": [
    {
     "data": {
      "text/plain": [
       "START*        STOP*       \n",
       "Cary          Durham          312.3\n",
       "Latta         Jacksonville    310.3\n",
       "Cary          Morrisville     293.7\n",
       "Durham        Cary            288.5\n",
       "Raleigh       Cary            269.5\n",
       "Morrisville   Cary            250.6\n",
       "Cary          Cary            233.9\n",
       "              Raleigh         230.4\n",
       "Jacksonville  Kissimmee       201.0\n",
       "Boone         Cary            180.2\n",
       "Name: MILES*, dtype: float64"
      ]
     },
     "execution_count": 23,
     "metadata": {},
     "output_type": "execute_result"
    }
   ],
   "source": [
    "data2.groupby(['START*','STOP*'])['MILES*'].sum().sort_values(ascending=False).head(10)"
   ]
  },
  {
   "cell_type": "code",
   "execution_count": 24,
   "id": "1aae9979-5612-45f6-91c7-a603780839b5",
   "metadata": {
    "tags": []
   },
   "outputs": [
    {
     "data": {
      "text/plain": [
       "START*       STOP*      \n",
       "Cary         Morrisville    52\n",
       "Morrisville  Cary           51\n",
       "Cary         Cary           44\n",
       "             Durham         30\n",
       "Durham       Cary           28\n",
       "Kar?chi      Kar?chi        20\n",
       "Cary         Raleigh        17\n",
       "Lahore       Lahore         16\n",
       "Raleigh      Cary           15\n",
       "Cary         Apex           11\n",
       "dtype: int64"
      ]
     },
     "execution_count": 24,
     "metadata": {},
     "output_type": "execute_result"
    }
   ],
   "source": [
    "data2.groupby(['START*','STOP*']).size().sort_values(ascending=False).head(10)"
   ]
  },
  {
   "cell_type": "code",
   "execution_count": 25,
   "id": "f7265b16-7721-4e6a-9d9d-7ceea5bbf24c",
   "metadata": {
    "tags": []
   },
   "outputs": [],
   "source": [
    "def round(x):\n",
    "    if x['START*'] == x['STOP*']:\n",
    "        return 'yes'\n",
    "    else:\n",
    "        return 'no'"
   ]
  },
  {
   "cell_type": "code",
   "execution_count": 26,
   "id": "aaf2882f-dbcd-47d6-b9b5-39e8f3c3b483",
   "metadata": {},
   "outputs": [],
   "source": [
    "data['ROUND_TRIP*'] = data.apply(round, axis=1)"
   ]
  },
  {
   "cell_type": "code",
   "execution_count": 27,
   "id": "7975f1f0-d1b5-4b94-8da5-d4ce8e42a47d",
   "metadata": {
    "tags": []
   },
   "outputs": [
    {
     "data": {
      "text/plain": [
       "<AxesSubplot: xlabel='ROUND_TRIP*', ylabel='count'>"
      ]
     },
     "execution_count": 27,
     "metadata": {},
     "output_type": "execute_result"
    },
    {
     "data": {
      "image/png": "[encoded data removed]",
      "text/plain": [
       "<Figure size 640x480 with 1 Axes>"
      ]
     },
     "metadata": {},
     "output_type": "display_data"
    }
   ],
   "source": [
    "sns.countplot(data, x = data['ROUND_TRIP*'])"
   ]
  },
  {
   "cell_type": "code",
   "execution_count": 28,
   "id": "0257aea8-18b8-4d1f-ab8b-f6f5fd802fc6",
   "metadata": {
    "tags": []
   },
   "outputs": [
    {
     "name": "stderr",
     "output_type": "stream",
     "text": [
      "C:\\Users\\VIVEK\\AppData\\Local\\Temp\\ipykernel_17176\\3171995675.py:1: FutureWarning: The pandas.datetime class is deprecated and will be removed from pandas in a future version. Import from datetime module instead.\n",
      "  data.loc[:,'START_DATE*'] = data['START_DATE*'].apply(lambda x: pd.datetime.strptime(x, '%m/%d/%Y %H:%M'))\n",
      "C:\\Users\\VIVEK\\AppData\\Local\\Temp\\ipykernel_17176\\3171995675.py:1: DeprecationWarning: In a future version, `df.iloc[:, i] = newvals` will attempt to set the values inplace instead of always setting a new array. To retain the old behavior, use either `df[df.columns[i]] = newvals` or, if columns are non-unique, `df.isetitem(i, newvals)`\n",
      "  data.loc[:,'START_DATE*'] = data['START_DATE*'].apply(lambda x: pd.datetime.strptime(x, '%m/%d/%Y %H:%M'))\n",
      "C:\\Users\\VIVEK\\AppData\\Local\\Temp\\ipykernel_17176\\3171995675.py:2: FutureWarning: The pandas.datetime class is deprecated and will be removed from pandas in a future version. Import from datetime module instead.\n",
      "  data.loc[:,'END_DATE*'] = data['END_DATE*'].apply(lambda x: pd.datetime.strptime(x, '%m/%d/%Y %H:%M'))\n",
      "C:\\Users\\VIVEK\\AppData\\Local\\Temp\\ipykernel_17176\\3171995675.py:2: DeprecationWarning: In a future version, `df.iloc[:, i] = newvals` will attempt to set the values inplace instead of always setting a new array. To retain the old behavior, use either `df[df.columns[i]] = newvals` or, if columns are non-unique, `df.isetitem(i, newvals)`\n",
      "  data.loc[:,'END_DATE*'] = data['END_DATE*'].apply(lambda x: pd.datetime.strptime(x, '%m/%d/%Y %H:%M'))\n"
     ]
    }
   ],
   "source": [
    "data.loc[:,'START_DATE*'] = data['START_DATE*'].apply(lambda x: pd.datetime.strptime(x, '%m/%d/%Y %H:%M'))\n",
    "data.loc[:,'END_DATE*'] = data['END_DATE*'].apply(lambda x: pd.datetime.strptime(x, '%m/%d/%Y %H:%M'))"
   ]
  },
  {
   "cell_type": "code",
   "execution_count": 29,
   "id": "ca558e4c-f929-4241-9081-d06b6beee51d",
   "metadata": {},
   "outputs": [],
   "source": [
    "data['DIFF'] = data['END_DATE*'] - data['START_DATE*']"
   ]
  },
  {
   "cell_type": "code",
   "execution_count": 30,
   "id": "716fb80f-3a48-4732-af06-c53e3166cdd2",
   "metadata": {
    "tags": []
   },
   "outputs": [],
   "source": [
    "data.loc[:,'DIFF'] = data['DIFF'].apply(lambda x: pd.Timedelta.to_pytimedelta(x).days/(24*60) + pd.Timedelta.to_pytimedelta(x).seconds/60)"
   ]
  },
  {
   "cell_type": "code",
   "execution_count": 31,
   "id": "efb2413a-2303-43b8-82b6-9fb36a37b553",
   "metadata": {
    "tags": []
   },
   "outputs": [
    {
     "data": {
      "text/html": [
       "<div>\n",
       "<style scoped>\n",
       "    .dataframe tbody tr th:only-of-type {\n",
       "        vertical-align: middle;\n",
       "    }\n",
       "\n",
       "    .dataframe tbody tr th {\n",
       "        vertical-align: top;\n",
       "    }\n",
       "\n",
       "    .dataframe thead th {\n",
       "        text-align: right;\n",
       "    }\n",
       "</style>\n",
       "<table border=\"1\" class=\"dataframe\">\n",
       "  <thead>\n",
       "    <tr style=\"text-align: right;\">\n",
       "      <th></th>\n",
       "      <th>MILES*</th>\n",
       "      <th>DIFF</th>\n",
       "    </tr>\n",
       "  </thead>\n",
       "  <tbody>\n",
       "    <tr>\n",
       "      <th>count</th>\n",
       "      <td>652.000000</td>\n",
       "      <td>652.000000</td>\n",
       "    </tr>\n",
       "    <tr>\n",
       "      <th>mean</th>\n",
       "      <td>11.198313</td>\n",
       "      <td>23.395706</td>\n",
       "    </tr>\n",
       "    <tr>\n",
       "      <th>std</th>\n",
       "      <td>23.004020</td>\n",
       "      <td>25.789348</td>\n",
       "    </tr>\n",
       "    <tr>\n",
       "      <th>min</th>\n",
       "      <td>0.500000</td>\n",
       "      <td>2.000000</td>\n",
       "    </tr>\n",
       "    <tr>\n",
       "      <th>25%</th>\n",
       "      <td>3.200000</td>\n",
       "      <td>11.000000</td>\n",
       "    </tr>\n",
       "    <tr>\n",
       "      <th>50%</th>\n",
       "      <td>6.400000</td>\n",
       "      <td>17.500000</td>\n",
       "    </tr>\n",
       "    <tr>\n",
       "      <th>75%</th>\n",
       "      <td>10.400000</td>\n",
       "      <td>28.000000</td>\n",
       "    </tr>\n",
       "    <tr>\n",
       "      <th>max</th>\n",
       "      <td>310.300000</td>\n",
       "      <td>330.000000</td>\n",
       "    </tr>\n",
       "  </tbody>\n",
       "</table>\n",
       "</div>"
      ],
      "text/plain": [
       "           MILES*        DIFF\n",
       "count  652.000000  652.000000\n",
       "mean    11.198313   23.395706\n",
       "std     23.004020   25.789348\n",
       "min      0.500000    2.000000\n",
       "25%      3.200000   11.000000\n",
       "50%      6.400000   17.500000\n",
       "75%     10.400000   28.000000\n",
       "max    310.300000  330.000000"
      ]
     },
     "execution_count": 31,
     "metadata": {},
     "output_type": "execute_result"
    }
   ],
   "source": [
    "data.describe()"
   ]
  },
  {
   "cell_type": "code",
   "execution_count": 32,
   "id": "61d24b4d-c329-4d68-937c-3d5b4aab2a2a",
   "metadata": {
    "tags": []
   },
   "outputs": [
    {
     "name": "stdout",
     "output_type": "stream",
     "text": [
      "<class 'pandas.core.frame.DataFrame'>\n",
      "Int64Index: 652 entries, 0 to 1154\n",
      "Data columns (total 9 columns):\n",
      " #   Column       Non-Null Count  Dtype         \n",
      "---  ------       --------------  -----         \n",
      " 0   START_DATE*  652 non-null    datetime64[ns]\n",
      " 1   END_DATE*    652 non-null    datetime64[ns]\n",
      " 2   CATEGORY*    652 non-null    object        \n",
      " 3   START*       652 non-null    object        \n",
      " 4   STOP*        652 non-null    object        \n",
      " 5   MILES*       652 non-null    float64       \n",
      " 6   PURPOSE*     652 non-null    object        \n",
      " 7   ROUND_TRIP*  652 non-null    object        \n",
      " 8   DIFF         652 non-null    float64       \n",
      "dtypes: datetime64[ns](2), float64(2), object(5)\n",
      "memory usage: 50.9+ KB\n"
     ]
    }
   ],
   "source": [
    "data.info()"
   ]
  },
  {
   "cell_type": "code",
   "execution_count": 33,
   "id": "41bb1368-acc1-4365-8002-381673c824d4",
   "metadata": {
    "tags": []
   },
   "outputs": [
    {
     "data": {
      "text/html": [
       "<div>\n",
       "<style scoped>\n",
       "    .dataframe tbody tr th:only-of-type {\n",
       "        vertical-align: middle;\n",
       "    }\n",
       "\n",
       "    .dataframe tbody tr th {\n",
       "        vertical-align: top;\n",
       "    }\n",
       "\n",
       "    .dataframe thead th {\n",
       "        text-align: right;\n",
       "    }\n",
       "</style>\n",
       "<table border=\"1\" class=\"dataframe\">\n",
       "  <thead>\n",
       "    <tr style=\"text-align: right;\">\n",
       "      <th></th>\n",
       "      <th>START_DATE*</th>\n",
       "      <th>END_DATE*</th>\n",
       "      <th>CATEGORY*</th>\n",
       "      <th>START*</th>\n",
       "      <th>STOP*</th>\n",
       "      <th>MILES*</th>\n",
       "      <th>PURPOSE*</th>\n",
       "      <th>ROUND_TRIP*</th>\n",
       "      <th>DIFF</th>\n",
       "      <th>month</th>\n",
       "      <th>day</th>\n",
       "      <th>year</th>\n",
       "      <th>hour</th>\n",
       "    </tr>\n",
       "  </thead>\n",
       "  <tbody>\n",
       "    <tr>\n",
       "      <th>0</th>\n",
       "      <td>2016-01-01 21:11:00</td>\n",
       "      <td>2016-01-01 21:17:00</td>\n",
       "      <td>Business</td>\n",
       "      <td>Fort Pierce</td>\n",
       "      <td>Fort Pierce</td>\n",
       "      <td>5.1</td>\n",
       "      <td>Meal/Entertain</td>\n",
       "      <td>yes</td>\n",
       "      <td>6.0</td>\n",
       "      <td>1</td>\n",
       "      <td>1</td>\n",
       "      <td>2016</td>\n",
       "      <td>21</td>\n",
       "    </tr>\n",
       "    <tr>\n",
       "      <th>2</th>\n",
       "      <td>2016-01-02 20:25:00</td>\n",
       "      <td>2016-01-02 20:38:00</td>\n",
       "      <td>Business</td>\n",
       "      <td>Fort Pierce</td>\n",
       "      <td>Fort Pierce</td>\n",
       "      <td>4.8</td>\n",
       "      <td>Errand/Supplies</td>\n",
       "      <td>yes</td>\n",
       "      <td>13.0</td>\n",
       "      <td>1</td>\n",
       "      <td>2</td>\n",
       "      <td>2016</td>\n",
       "      <td>20</td>\n",
       "    </tr>\n",
       "    <tr>\n",
       "      <th>3</th>\n",
       "      <td>2016-01-05 17:31:00</td>\n",
       "      <td>2016-01-05 17:45:00</td>\n",
       "      <td>Business</td>\n",
       "      <td>Fort Pierce</td>\n",
       "      <td>Fort Pierce</td>\n",
       "      <td>4.7</td>\n",
       "      <td>Meeting</td>\n",
       "      <td>yes</td>\n",
       "      <td>14.0</td>\n",
       "      <td>1</td>\n",
       "      <td>5</td>\n",
       "      <td>2016</td>\n",
       "      <td>17</td>\n",
       "    </tr>\n",
       "    <tr>\n",
       "      <th>4</th>\n",
       "      <td>2016-01-06 14:42:00</td>\n",
       "      <td>2016-01-06 15:49:00</td>\n",
       "      <td>Business</td>\n",
       "      <td>Fort Pierce</td>\n",
       "      <td>West Palm Beach</td>\n",
       "      <td>63.7</td>\n",
       "      <td>Customer Visit</td>\n",
       "      <td>no</td>\n",
       "      <td>67.0</td>\n",
       "      <td>1</td>\n",
       "      <td>6</td>\n",
       "      <td>2016</td>\n",
       "      <td>14</td>\n",
       "    </tr>\n",
       "    <tr>\n",
       "      <th>5</th>\n",
       "      <td>2016-01-06 17:15:00</td>\n",
       "      <td>2016-01-06 17:19:00</td>\n",
       "      <td>Business</td>\n",
       "      <td>West Palm Beach</td>\n",
       "      <td>West Palm Beach</td>\n",
       "      <td>4.3</td>\n",
       "      <td>Meal/Entertain</td>\n",
       "      <td>yes</td>\n",
       "      <td>4.0</td>\n",
       "      <td>1</td>\n",
       "      <td>6</td>\n",
       "      <td>2016</td>\n",
       "      <td>17</td>\n",
       "    </tr>\n",
       "  </tbody>\n",
       "</table>\n",
       "</div>"
      ],
      "text/plain": [
       "          START_DATE*           END_DATE* CATEGORY*           START*  \\\n",
       "0 2016-01-01 21:11:00 2016-01-01 21:17:00  Business      Fort Pierce   \n",
       "2 2016-01-02 20:25:00 2016-01-02 20:38:00  Business      Fort Pierce   \n",
       "3 2016-01-05 17:31:00 2016-01-05 17:45:00  Business      Fort Pierce   \n",
       "4 2016-01-06 14:42:00 2016-01-06 15:49:00  Business      Fort Pierce   \n",
       "5 2016-01-06 17:15:00 2016-01-06 17:19:00  Business  West Palm Beach   \n",
       "\n",
       "             STOP*  MILES*         PURPOSE* ROUND_TRIP*  DIFF  month  day  \\\n",
       "0      Fort Pierce     5.1   Meal/Entertain         yes   6.0      1    1   \n",
       "2      Fort Pierce     4.8  Errand/Supplies         yes  13.0      1    2   \n",
       "3      Fort Pierce     4.7          Meeting         yes  14.0      1    5   \n",
       "4  West Palm Beach    63.7   Customer Visit          no  67.0      1    6   \n",
       "5  West Palm Beach     4.3   Meal/Entertain         yes   4.0      1    6   \n",
       "\n",
       "   year  hour  \n",
       "0  2016    21  \n",
       "2  2016    20  \n",
       "3  2016    17  \n",
       "4  2016    14  \n",
       "5  2016    17  "
      ]
     },
     "execution_count": 33,
     "metadata": {},
     "output_type": "execute_result"
    }
   ],
   "source": [
    "data['month'] = pd.to_datetime(data['START_DATE*']).dt.month\n",
    "data['day'] = pd.to_datetime(data['START_DATE*']).dt.day\n",
    "data['year'] = pd.to_datetime(data['START_DATE*']).dt.year\n",
    "data['hour'] = pd.to_datetime(data['START_DATE*']).dt.hour\n",
    "data.head()"
   ]
  },
  {
   "cell_type": "code",
   "execution_count": 34,
   "id": "bafc94de-efbf-4437-9e32-b55f603dca4e",
   "metadata": {
    "tags": []
   },
   "outputs": [],
   "source": [
    "data['day_of_week'] = pd.to_datetime(data['START_DATE*']).dt.dayofweek"
   ]
  },
  {
   "cell_type": "code",
   "execution_count": 35,
   "id": "84ac0f33-6f71-4534-a0dd-da368eb80b2b",
   "metadata": {
    "tags": []
   },
   "outputs": [],
   "source": [
    "days = {0:'Mon',1:'Tue',2:'Wed',3:'Thur',4:'Fri',5:'Sat',6:'Sun'}\n",
    "data['day_of_week'] = data['day_of_week'].apply(lambda x: days[x])"
   ]
  },
  {
   "cell_type": "code",
   "execution_count": 36,
   "id": "ba64dd9f-4c14-4f00-95fb-335bf3238858",
   "metadata": {
    "tags": []
   },
   "outputs": [
    {
     "data": {
      "text/html": [
       "<div>\n",
       "<style scoped>\n",
       "    .dataframe tbody tr th:only-of-type {\n",
       "        vertical-align: middle;\n",
       "    }\n",
       "\n",
       "    .dataframe tbody tr th {\n",
       "        vertical-align: top;\n",
       "    }\n",
       "\n",
       "    .dataframe thead th {\n",
       "        text-align: right;\n",
       "    }\n",
       "</style>\n",
       "<table border=\"1\" class=\"dataframe\">\n",
       "  <thead>\n",
       "    <tr style=\"text-align: right;\">\n",
       "      <th></th>\n",
       "      <th>START_DATE*</th>\n",
       "      <th>END_DATE*</th>\n",
       "      <th>CATEGORY*</th>\n",
       "      <th>START*</th>\n",
       "      <th>STOP*</th>\n",
       "      <th>MILES*</th>\n",
       "      <th>PURPOSE*</th>\n",
       "      <th>ROUND_TRIP*</th>\n",
       "      <th>DIFF</th>\n",
       "      <th>month</th>\n",
       "      <th>day</th>\n",
       "      <th>year</th>\n",
       "      <th>hour</th>\n",
       "      <th>day_of_week</th>\n",
       "    </tr>\n",
       "  </thead>\n",
       "  <tbody>\n",
       "    <tr>\n",
       "      <th>0</th>\n",
       "      <td>2016-01-01 21:11:00</td>\n",
       "      <td>2016-01-01 21:17:00</td>\n",
       "      <td>Business</td>\n",
       "      <td>Fort Pierce</td>\n",
       "      <td>Fort Pierce</td>\n",
       "      <td>5.1</td>\n",
       "      <td>Meal/Entertain</td>\n",
       "      <td>yes</td>\n",
       "      <td>6.0</td>\n",
       "      <td>Jan</td>\n",
       "      <td>1</td>\n",
       "      <td>2016</td>\n",
       "      <td>21</td>\n",
       "      <td>Fri</td>\n",
       "    </tr>\n",
       "    <tr>\n",
       "      <th>2</th>\n",
       "      <td>2016-01-02 20:25:00</td>\n",
       "      <td>2016-01-02 20:38:00</td>\n",
       "      <td>Business</td>\n",
       "      <td>Fort Pierce</td>\n",
       "      <td>Fort Pierce</td>\n",
       "      <td>4.8</td>\n",
       "      <td>Errand/Supplies</td>\n",
       "      <td>yes</td>\n",
       "      <td>13.0</td>\n",
       "      <td>Jan</td>\n",
       "      <td>2</td>\n",
       "      <td>2016</td>\n",
       "      <td>20</td>\n",
       "      <td>Sat</td>\n",
       "    </tr>\n",
       "    <tr>\n",
       "      <th>3</th>\n",
       "      <td>2016-01-05 17:31:00</td>\n",
       "      <td>2016-01-05 17:45:00</td>\n",
       "      <td>Business</td>\n",
       "      <td>Fort Pierce</td>\n",
       "      <td>Fort Pierce</td>\n",
       "      <td>4.7</td>\n",
       "      <td>Meeting</td>\n",
       "      <td>yes</td>\n",
       "      <td>14.0</td>\n",
       "      <td>Jan</td>\n",
       "      <td>5</td>\n",
       "      <td>2016</td>\n",
       "      <td>17</td>\n",
       "      <td>Tue</td>\n",
       "    </tr>\n",
       "    <tr>\n",
       "      <th>4</th>\n",
       "      <td>2016-01-06 14:42:00</td>\n",
       "      <td>2016-01-06 15:49:00</td>\n",
       "      <td>Business</td>\n",
       "      <td>Fort Pierce</td>\n",
       "      <td>West Palm Beach</td>\n",
       "      <td>63.7</td>\n",
       "      <td>Customer Visit</td>\n",
       "      <td>no</td>\n",
       "      <td>67.0</td>\n",
       "      <td>Jan</td>\n",
       "      <td>6</td>\n",
       "      <td>2016</td>\n",
       "      <td>14</td>\n",
       "      <td>Wed</td>\n",
       "    </tr>\n",
       "    <tr>\n",
       "      <th>5</th>\n",
       "      <td>2016-01-06 17:15:00</td>\n",
       "      <td>2016-01-06 17:19:00</td>\n",
       "      <td>Business</td>\n",
       "      <td>West Palm Beach</td>\n",
       "      <td>West Palm Beach</td>\n",
       "      <td>4.3</td>\n",
       "      <td>Meal/Entertain</td>\n",
       "      <td>yes</td>\n",
       "      <td>4.0</td>\n",
       "      <td>Jan</td>\n",
       "      <td>6</td>\n",
       "      <td>2016</td>\n",
       "      <td>17</td>\n",
       "      <td>Wed</td>\n",
       "    </tr>\n",
       "  </tbody>\n",
       "</table>\n",
       "</div>"
      ],
      "text/plain": [
       "          START_DATE*           END_DATE* CATEGORY*           START*  \\\n",
       "0 2016-01-01 21:11:00 2016-01-01 21:17:00  Business      Fort Pierce   \n",
       "2 2016-01-02 20:25:00 2016-01-02 20:38:00  Business      Fort Pierce   \n",
       "3 2016-01-05 17:31:00 2016-01-05 17:45:00  Business      Fort Pierce   \n",
       "4 2016-01-06 14:42:00 2016-01-06 15:49:00  Business      Fort Pierce   \n",
       "5 2016-01-06 17:15:00 2016-01-06 17:19:00  Business  West Palm Beach   \n",
       "\n",
       "             STOP*  MILES*         PURPOSE* ROUND_TRIP*  DIFF month  day  \\\n",
       "0      Fort Pierce     5.1   Meal/Entertain         yes   6.0   Jan    1   \n",
       "2      Fort Pierce     4.8  Errand/Supplies         yes  13.0   Jan    2   \n",
       "3      Fort Pierce     4.7          Meeting         yes  14.0   Jan    5   \n",
       "4  West Palm Beach    63.7   Customer Visit          no  67.0   Jan    6   \n",
       "5  West Palm Beach     4.3   Meal/Entertain         yes   4.0   Jan    6   \n",
       "\n",
       "   year  hour day_of_week  \n",
       "0  2016    21         Fri  \n",
       "2  2016    20         Sat  \n",
       "3  2016    17         Tue  \n",
       "4  2016    14         Wed  \n",
       "5  2016    17         Wed  "
      ]
     },
     "execution_count": 36,
     "metadata": {},
     "output_type": "execute_result"
    }
   ],
   "source": [
    "import calendar\n",
    "data['month'] = data['month'].apply(lambda x: calendar.month_abbr[x])\n",
    "data.head()"
   ]
  },
  {
   "cell_type": "code",
   "execution_count": 37,
   "id": "f86ba6b4-5e73-4966-b15d-aad569624d5e",
   "metadata": {},
   "outputs": [
    {
     "name": "stdout",
     "output_type": "stream",
     "text": [
      "Dec    134\n",
      "Feb     82\n",
      "Jun     72\n",
      "Mar     71\n",
      "Nov     60\n",
      "Jan     59\n",
      "Apr     50\n",
      "May     46\n",
      "Jul     46\n",
      "Oct     20\n",
      "Aug     12\n",
      "Name: month, dtype: int64\n",
      "Fri     125\n",
      "Tue      93\n",
      "Thur     92\n",
      "Sun      87\n",
      "Mon      87\n",
      "Wed      85\n",
      "Sat      83\n",
      "Name: day_of_week, dtype: int64\n"
     ]
    }
   ],
   "source": [
    "print(data['month'].value_counts())\n",
    "print(data['day_of_week'].value_counts())"
   ]
  },
  {
   "cell_type": "code",
   "execution_count": 38,
   "id": "2890460f-4824-4115-b6b1-8cec3a3b4395",
   "metadata": {
    "tags": []
   },
   "outputs": [
    {
     "data": {
      "text/plain": [
       "<AxesSubplot: ylabel='month'>"
      ]
     },
     "execution_count": 38,
     "metadata": {},
     "output_type": "execute_result"
    },
    {
     "data": {
      "image/png": "[encoded data removed]",
      "text/plain": [
       "<Figure size 640x480 with 1 Axes>"
      ]
     },
     "metadata": {},
     "output_type": "display_data"
    }
   ],
   "source": [
    "sns.barplot(data = data, x = pd.value_counts(data['month']).index, y = data['month'].value_counts())"
   ]
  },
  {
   "cell_type": "code",
   "execution_count": 39,
   "id": "0a0e7f76-ab67-4581-859e-137373a4dfaf",
   "metadata": {
    "tags": []
   },
   "outputs": [
    {
     "data": {
      "text/plain": [
       "<AxesSubplot: ylabel='day_of_week'>"
      ]
     },
     "execution_count": 39,
     "metadata": {},
     "output_type": "execute_result"
    },
    {
     "data": {
      "image/png": "[encoded data removed]",
      "text/plain": [
       "<Figure size 640x480 with 1 Axes>"
      ]
     },
     "metadata": {},
     "output_type": "display_data"
    }
   ],
   "source": [
    "sns.barplot(data = data, x = pd.value_counts(data['day_of_week']).index, y = data['day_of_week'].value_counts())"
   ]
  },
  {
   "cell_type": "code",
   "execution_count": 40,
   "id": "dadc2382-7a95-4f46-ab51-48fa9db6ee99",
   "metadata": {
    "tags": []
   },
   "outputs": [
    {
     "name": "stderr",
     "output_type": "stream",
     "text": [
      "C:\\Users\\VIVEK\\AppData\\Local\\Temp\\ipykernel_17176\\3714223523.py:1: FutureWarning: The default value of numeric_only in DataFrameGroupBy.mean is deprecated. In a future version, numeric_only will default to False. Either specify numeric_only or select only columns which should be valid for the function.\n",
      "  data.groupby('month').mean()['MILES*'].sort_values(ascending=False)\n"
     ]
    },
    {
     "data": {
      "text/plain": [
       "month\n",
       "Oct    24.840000\n",
       "Apr    21.898000\n",
       "Mar    20.505634\n",
       "Jul    10.615217\n",
       "Nov    10.590000\n",
       "Feb     8.868293\n",
       "Jan     8.486441\n",
       "May     7.793478\n",
       "Jun     7.376389\n",
       "Aug     7.341667\n",
       "Dec     6.898507\n",
       "Name: MILES*, dtype: float64"
      ]
     },
     "execution_count": 40,
     "metadata": {},
     "output_type": "execute_result"
    }
   ],
   "source": [
    "data.groupby('month').mean()['MILES*'].sort_values(ascending=False)"
   ]
  },
  {
   "cell_type": "code",
   "execution_count": 41,
   "id": "4c6bca86-0fad-4f3a-8bdb-b5e669f2a936",
   "metadata": {
    "tags": []
   },
   "outputs": [
    {
     "name": "stderr",
     "output_type": "stream",
     "text": [
      "C:\\Users\\VIVEK\\AppData\\Local\\Temp\\ipykernel_17176\\3956204032.py:1: FutureWarning: The default value of numeric_only in DataFrameGroupBy.mean is deprecated. In a future version, numeric_only will default to False. Either specify numeric_only or select only columns which should be valid for the function.\n",
      "  data.groupby('month').mean()['MILES*'].sort_values(ascending=False).plot.bar()\n"
     ]
    },
    {
     "data": {
      "image/png": "[encoded data removed]",
      "text/plain": [
       "<Figure size 640x480 with 1 Axes>"
      ]
     },
     "metadata": {},
     "output_type": "display_data"
    }
   ],
   "source": [
    "data.groupby('month').mean()['MILES*'].sort_values(ascending=False).plot.bar()\n",
    "plt.axhline(data['MILES*'].mean(), linestyle='--',color='black' , label='Mean distance')\n",
    "plt.legend()\n",
    "plt.show()"
   ]
  },
  {
   "cell_type": "code",
   "execution_count": 42,
   "id": "163613ca-4bce-4cef-b606-7027ef9165e5",
   "metadata": {
    "tags": []
   },
   "outputs": [
    {
     "data": {
      "text/plain": [
       "<AxesSubplot: xlabel='hour', ylabel='count'>"
      ]
     },
     "execution_count": 42,
     "metadata": {},
     "output_type": "execute_result"
    },
    {
     "data": {
      "image/png": "[encoded data removed]",
      "text/plain": [
       "<Figure size 1200x800 with 1 Axes>"
      ]
     },
     "metadata": {},
     "output_type": "display_data"
    }
   ],
   "source": [
    "plt.figure(figsize=(12,8))\n",
    "sns.countplot(data = data, x = data['hour'], hue=data['day_of_week'], palette='Set2')"
   ]
  },
  {
   "cell_type": "code",
   "execution_count": 43,
   "id": "2de56928-c344-4ee0-bd5d-14eb5a909e6a",
   "metadata": {
    "tags": []
   },
   "outputs": [],
   "source": [
    "a = pd.to_datetime(['18:00:00']).time\n",
    "data['DAY/NIGHT*'] = data.apply(lambda x: 'Night Ride' if x['START_DATE*'].time() > a else 'Day Ride', axis=1)"
   ]
  },
  {
   "cell_type": "code",
   "execution_count": 44,
   "id": "95496084-b62d-4025-a4a9-79080cfa6660",
   "metadata": {
    "tags": []
   },
   "outputs": [
    {
     "data": {
      "text/plain": [
       "<AxesSubplot: ylabel='DAY/NIGHT*'>"
      ]
     },
     "execution_count": 44,
     "metadata": {},
     "output_type": "execute_result"
    },
    {
     "data": {
      "image/png": "[encoded data removed]",
      "text/plain": [
       "<Figure size 640x480 with 1 Axes>"
      ]
     },
     "metadata": {},
     "output_type": "display_data"
    }
   ],
   "source": [
    "sns.barplot(data = data, x = pd.value_counts(data['DAY/NIGHT*']).index, y = data['DAY/NIGHT*'].value_counts(), palette='Set1')"
   ]
  },
  {
   "cell_type": "code",
   "execution_count": 45,
   "id": "53eb0724-7f03-4a10-a02c-3ee52ec6c116",
   "metadata": {
    "tags": []
   },
   "outputs": [
    {
     "data": {
      "text/plain": [
       "<AxesSubplot: xlabel='day_of_week', ylabel='count'>"
      ]
     },
     "execution_count": 45,
     "metadata": {},
     "output_type": "execute_result"
    },
    {
     "data": {
      "image/png": "[encoded data removed]",
      "text/plain": [
       "<Figure size 640x480 with 1 Axes>"
      ]
     },
     "metadata": {},
     "output_type": "display_data"
    }
   ],
   "source": [
    "sns.countplot(data = data, x = data['day_of_week'], hue=data['DAY/NIGHT*'],palette='Set1')"
   ]
  },
  {
   "cell_type": "code",
   "execution_count": 46,
   "id": "42513ed1-416a-4d00-8148-f75963f53bf4",
   "metadata": {
    "tags": []
   },
   "outputs": [],
   "source": [
    "m = {}\n",
    "\n",
    "for i in data['MILES*']:\n",
    "    for i in data['MILES*']:\n",
    "        if i < 10:\n",
    "            m.setdefault(i, '0-10 miles')\n",
    "        elif i >= 10 and i < 20:\n",
    "            m.setdefault(i, '10-20 miles')\n",
    "        elif i >= 20 and i < 30:\n",
    "            m.setdefault(i, '20-30 miles')\n",
    "        elif i >= 30 and i < 40:\n",
    "            m.setdefault(i, '30-40 miles')\n",
    "        else :\n",
    "            m.setdefault(i, 'Above 50 miles')"
   ]
  },
  {
   "cell_type": "code",
   "execution_count": 47,
   "id": "07ea9b97-b758-4c67-a90f-eed18d1f9b9f",
   "metadata": {
    "tags": []
   },
   "outputs": [],
   "source": [
    "data['MILES_BUCKET*'] = data['MILES*'].map(m)"
   ]
  },
  {
   "cell_type": "code",
   "execution_count": 48,
   "id": "bf8ac776-eaef-451a-b2d4-1a5f353a5580",
   "metadata": {
    "tags": []
   },
   "outputs": [
    {
     "data": {
      "text/plain": [
       "<AxesSubplot: ylabel='MILES_BUCKET*'>"
      ]
     },
     "execution_count": 48,
     "metadata": {},
     "output_type": "execute_result"
    },
    {
     "data": {
      "image/png": "[encoded data removed]",
      "text/plain": [
       "<Figure size 640x480 with 1 Axes>"
      ]
     },
     "metadata": {},
     "output_type": "display_data"
    }
   ],
   "source": [
    "sns.barplot(data = data, x = data['MILES_BUCKET*'].value_counts().index, y = data['MILES_BUCKET*'].value_counts(), palette='cubehelix')"
   ]
  },
  {
   "cell_type": "code",
   "execution_count": 49,
   "id": "2587ddbb-35ed-4f05-b15b-d0c41c1c0edb",
   "metadata": {
    "tags": []
   },
   "outputs": [
    {
     "data": {
      "text/plain": [
       "<AxesSubplot: xlabel='MILES_BUCKET*', ylabel='count'>"
      ]
     },
     "execution_count": 49,
     "metadata": {},
     "output_type": "execute_result"
    },
    {
     "data": {
      "image/png": "[encoded data removed]",
      "text/plain": [
       "<Figure size 640x480 with 1 Axes>"
      ]
     },
     "metadata": {},
     "output_type": "display_data"
    }
   ],
   "source": [
    "sns.countplot(data = data, x = data['MILES_BUCKET*'].sort_values(ascending=True), hue=data['DAY/NIGHT*'], palette='cubehelix')"
   ]
  },
  {
   "cell_type": "code",
   "execution_count": 51,
   "id": "19c05f10-c9f5-41a3-a666-536fe0af5781",
   "metadata": {},
   "outputs": [
    {
     "data": {
      "text/plain": [
       "count    652.000000\n",
       "mean      25.263642\n",
       "std       16.827915\n",
       "min        6.000000\n",
       "25%       16.553571\n",
       "50%       22.219780\n",
       "75%       29.120455\n",
       "max      228.000000\n",
       "Name: Speed_KM, dtype: float64"
      ]
     },
     "execution_count": 51,
     "metadata": {},
     "output_type": "execute_result"
    }
   ],
   "source": [
    "data['Duration_hours'] = data['DIFF']/60\n",
    "data['Speed_KM'] = data['MILES*']/data['Duration_hours']\n",
    "data['Speed_KM'].describe()"
   ]
  },
  {
   "cell_type": "code",
   "execution_count": 56,
   "id": "8387a5ce-5d51-4358-904b-a88e2ffe4707",
   "metadata": {
    "tags": []
   },
   "outputs": [
    {
     "name": "stderr",
     "output_type": "stream",
     "text": [
      "C:\\Users\\VIVEK\\AppData\\Local\\Temp\\ipykernel_17176\\4082362139.py:2: UserWarning: \n",
      "\n",
      "`distplot` is a deprecated function and will be removed in seaborn v0.14.0.\n",
      "\n",
      "Please adapt your code to use either `displot` (a figure-level function with\n",
      "similar flexibility) or `histplot` (an axes-level function for histograms).\n",
      "\n",
      "For a guide to updating your code to use the new functions, please see\n",
      "https://gist.github.com/mwaskom/de44147ed2974457ad6372750bbe5751\n",
      "\n",
      "  sns.distplot(data['Speed_KM'])\n"
     ]
    },
    {
     "data": {
      "text/plain": [
       "<AxesSubplot: xlabel='Speed_KM', ylabel='Density'>"
      ]
     },
     "execution_count": 56,
     "metadata": {},
     "output_type": "execute_result"
    },
    {
     "data": {
      "image/png": "[encoded data removed]",
      "text/plain": [
       "<Figure size 800x600 with 1 Axes>"
      ]
     },
     "metadata": {},
     "output_type": "display_data"
    }
   ],
   "source": [
    "plt.figure(figsize=(8,6))\n",
    "sns.distplot(data['Speed_KM'])"
   ]
  },
  {
   "cell_type": "code",
   "execution_count": 71,
   "id": "2a363b33-0903-455b-94ab-047a71a5b83f",
   "metadata": {
    "tags": []
   },
   "outputs": [
    {
     "data": {
      "text/plain": [
       "Business    646\n",
       "Personal      6\n",
       "Name: CATEGORY*, dtype: int64"
      ]
     },
     "execution_count": 71,
     "metadata": {},
     "output_type": "execute_result"
    }
   ],
   "source": [
    "data['CATEGORY*'].value_counts()"
   ]
  },
  {
   "cell_type": "code",
   "execution_count": 73,
   "id": "c455600a-73f8-4e88-b6d9-7d190b258857",
   "metadata": {
    "tags": []
   },
   "outputs": [
    {
     "data": {
      "text/plain": [
       "<AxesSubplot: ylabel='CATEGORY*'>"
      ]
     },
     "execution_count": 73,
     "metadata": {},
     "output_type": "execute_result"
    },
    {
     "data": {
      "image/png": "[encoded data removed]",
      "text/plain": [
       "<Figure size 640x480 with 1 Axes>"
      ]
     },
     "metadata": {},
     "output_type": "display_data"
    }
   ],
   "source": [
    "sns.barplot(data = data,x = data['CATEGORY*'].value_counts().index, y = data['CATEGORY*'].value_counts())"
   ]
  },
  {
   "cell_type": "code",
   "execution_count": 74,
   "id": "573f7be7-5589-4311-aaa0-acf6ed6e49ba",
   "metadata": {
    "tags": []
   },
   "outputs": [
    {
     "data": {
      "text/plain": [
       "Meeting            186\n",
       "Meal/Entertain     160\n",
       "Errand/Supplies    128\n",
       "Customer Visit     101\n",
       "Temporary Site      50\n",
       "Between Offices     18\n",
       "Moving               4\n",
       "Airport/Travel       3\n",
       "Charity ($)          1\n",
       "Commute              1\n",
       "Name: PURPOSE*, dtype: int64"
      ]
     },
     "execution_count": 74,
     "metadata": {},
     "output_type": "execute_result"
    }
   ],
   "source": [
    "data['PURPOSE*'].value_counts()"
   ]
  },
  {
   "cell_type": "code",
   "execution_count": 78,
   "id": "47fe65b4-5ea8-4379-a14e-aec0d51996c0",
   "metadata": {
    "tags": []
   },
   "outputs": [
    {
     "data": {
      "text/plain": [
       "<AxesSubplot: xlabel='PURPOSE*'>"
      ]
     },
     "execution_count": 78,
     "metadata": {},
     "output_type": "execute_result"
    },
    {
     "data": {
      "image/png": "[encoded data removed]",
      "text/plain": [
       "<Figure size 640x480 with 1 Axes>"
      ]
     },
     "metadata": {},
     "output_type": "display_data"
    }
   ],
   "source": [
    "sns.barplot(data = data, y = data['PURPOSE*'].value_counts().index, x = data['PURPOSE*'].value_counts() )"
   ]
  },
  {
   "cell_type": "code",
   "execution_count": 85,
   "id": "cb67052b-2c8d-48e0-b28b-7d015f3cc4b0",
   "metadata": {
    "tags": []
   },
   "outputs": [
    {
     "name": "stderr",
     "output_type": "stream",
     "text": [
      "C:\\Users\\VIVEK\\AppData\\Local\\Temp\\ipykernel_17176\\2496737501.py:1: FutureWarning: The default value of numeric_only in DataFrameGroupBy.mean is deprecated. In a future version, numeric_only will default to False. Either specify numeric_only or select only columns which should be valid for the function.\n",
      "  data.groupby('PURPOSE*').mean()['MILES*'].sort_values(ascending=False)\n"
     ]
    },
    {
     "data": {
      "text/plain": [
       "PURPOSE*\n",
       "Commute            180.200000\n",
       "Customer Visit      20.688119\n",
       "Meeting             15.276344\n",
       "Charity ($)         15.100000\n",
       "Between Offices     10.944444\n",
       "Temporary Site      10.474000\n",
       "Meal/Entertain       5.698125\n",
       "Airport/Travel       5.500000\n",
       "Moving               4.550000\n",
       "Errand/Supplies      3.968750\n",
       "Name: MILES*, dtype: float64"
      ]
     },
     "execution_count": 85,
     "metadata": {},
     "output_type": "execute_result"
    }
   ],
   "source": [
    "data.groupby('PURPOSE*').mean()['MILES*'].sort_values(ascending=False)"
   ]
  },
  {
   "cell_type": "code",
   "execution_count": 88,
   "id": "22d545e9-9a45-49fd-9ad4-0ce0e5db8648",
   "metadata": {
    "tags": []
   },
   "outputs": [
    {
     "name": "stderr",
     "output_type": "stream",
     "text": [
      "C:\\Users\\VIVEK\\AppData\\Local\\Temp\\ipykernel_17176\\1975216478.py:1: FutureWarning: The default value of numeric_only in DataFrameGroupBy.sum is deprecated. In a future version, numeric_only will default to False. Either specify numeric_only or select only columns which should be valid for the function.\n",
      "  data.groupby('PURPOSE*').sum()['MILES*'].sort_values(ascending=False)\n"
     ]
    },
    {
     "data": {
      "text/plain": [
       "PURPOSE*\n",
       "Meeting            2841.4\n",
       "Customer Visit     2089.5\n",
       "Meal/Entertain      911.7\n",
       "Temporary Site      523.7\n",
       "Errand/Supplies     508.0\n",
       "Between Offices     197.0\n",
       "Commute             180.2\n",
       "Moving               18.2\n",
       "Airport/Travel       16.5\n",
       "Charity ($)          15.1\n",
       "Name: MILES*, dtype: float64"
      ]
     },
     "execution_count": 88,
     "metadata": {},
     "output_type": "execute_result"
    }
   ],
   "source": [
    "data.groupby('PURPOSE*').sum()['MILES*'].sort_values(ascending=False)"
   ]
  },
  {
   "cell_type": "code",
   "execution_count": 89,
   "id": "3893a5d3-ab24-4655-8254-4000bba62017",
   "metadata": {
    "tags": []
   },
   "outputs": [
    {
     "name": "stderr",
     "output_type": "stream",
     "text": [
      "C:\\Users\\VIVEK\\AppData\\Local\\Temp\\ipykernel_17176\\2850493367.py:1: FutureWarning: The default value of numeric_only in DataFrameGroupBy.sum is deprecated. In a future version, numeric_only will default to False. Either specify numeric_only or select only columns which should be valid for the function.\n",
      "  data.groupby('CATEGORY*').sum()['MILES*'].sort_values(ascending=False)\n"
     ]
    },
    {
     "data": {
      "text/plain": [
       "CATEGORY*\n",
       "Business    7087.8\n",
       "Personal     213.5\n",
       "Name: MILES*, dtype: float64"
      ]
     },
     "execution_count": 89,
     "metadata": {},
     "output_type": "execute_result"
    }
   ],
   "source": [
    "data.groupby('CATEGORY*').sum()['MILES*'].sort_values(ascending=False)"
   ]
  },
  {
   "cell_type": "code",
   "execution_count": 90,
   "id": "7621a96b-5ba6-449b-b86f-49bdf4e84634",
   "metadata": {
    "tags": []
   },
   "outputs": [
    {
     "data": {
      "text/plain": [
       "<AxesSubplot: xlabel='day_of_week', ylabel='count'>"
      ]
     },
     "execution_count": 90,
     "metadata": {},
     "output_type": "execute_result"
    },
    {
     "data": {
      "image/png": "[encoded data removed]",
      "text/plain": [
       "<Figure size 640x480 with 1 Axes>"
      ]
     },
     "metadata": {},
     "output_type": "display_data"
    }
   ],
   "source": [
    "sns.countplot(data = data, x = data['day_of_week'], hue=data['CATEGORY*'])"
   ]
  },
  {
   "cell_type": "code",
   "execution_count": 91,
   "id": "5f99819b-697e-4cb8-a233-367733dd0914",
   "metadata": {
    "tags": []
   },
   "outputs": [
    {
     "data": {
      "text/plain": [
       "<AxesSubplot: xlabel='month', ylabel='count'>"
      ]
     },
     "execution_count": 91,
     "metadata": {},
     "output_type": "execute_result"
    },
    {
     "data": {
      "image/png": "[encoded data removed]",
      "text/plain": [
       "<Figure size 640x480 with 1 Axes>"
      ]
     },
     "metadata": {},
     "output_type": "display_data"
    }
   ],
   "source": [
    "sns.countplot(data = data, x = data['month'], hue = data['CATEGORY*'])"
   ]
  },
  {
   "cell_type": "code",
   "execution_count": null,
   "id": "87d33643-84dc-435a-9467-a39d0b9e39b7",
   "metadata": {},
   "outputs": [],
   "source": []
  }
 ],
 "metadata": {
  "kernelspec": {
   "display_name": "Python 3 (ipykernel)",
   "language": "python",
   "name": "python3"
  },
  "language_info": {
   "codemirror_mode": {
    "name": "ipython",
    "version": 3
   },
   "file_extension": ".py",
   "mimetype": "text/x-python",
   "name": "python",
   "nbconvert_exporter": "python",
   "pygments_lexer": "ipython3",
   "version": "3.9.5"
  }
 },
 "nbformat": 4,
 "nbformat_minor": 5
}
